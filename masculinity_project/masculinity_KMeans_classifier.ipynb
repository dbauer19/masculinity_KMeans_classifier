{
 "cells": [
  {
   "cell_type": "markdown",
   "metadata": {},
   "source": [
    "# Classifying Masculinity with KMeans++\n",
    "\n",
    "In this project, I will be investigating the way people think about masculinity by applying the KMeans algorithm to data from  FiveThirtyEight. FiveThirtyEight is a popular website known for their use of statistical analysis in many of their stories.\n",
    "\n",
    "FiveThirtyEight and WNYC studios used `masculinity-survey.pdf` to get their male readers' thoughts on masculinity. I'm going to try to find more insights into the survey responses by using a KMeans classifier."
   ]
  },
  {
   "cell_type": "code",
   "execution_count": 1,
   "metadata": {},
   "outputs": [
    {
     "name": "stdout",
     "output_type": "stream",
     "text": [
      "Index(['Unnamed: 0', 'StartDate', 'EndDate', 'q0001', 'q0002', 'q0004_0001',\n",
      "       'q0004_0002', 'q0004_0003', 'q0004_0004', 'q0004_0005', 'q0004_0006',\n",
      "       'q0005', 'q0007_0001', 'q0007_0002', 'q0007_0003', 'q0007_0004',\n",
      "       'q0007_0005', 'q0007_0006', 'q0007_0007', 'q0007_0008', 'q0007_0009',\n",
      "       'q0007_0010', 'q0007_0011', 'q0008_0001', 'q0008_0002', 'q0008_0003',\n",
      "       'q0008_0004', 'q0008_0005', 'q0008_0006', 'q0008_0007', 'q0008_0008',\n",
      "       'q0008_0009', 'q0008_0010', 'q0008_0011', 'q0008_0012', 'q0009',\n",
      "       'q0010_0001', 'q0010_0002', 'q0010_0003', 'q0010_0004', 'q0010_0005',\n",
      "       'q0010_0006', 'q0010_0007', 'q0010_0008', 'q0011_0001', 'q0011_0002',\n",
      "       'q0011_0003', 'q0011_0004', 'q0011_0005', 'q0012_0001', 'q0012_0002',\n",
      "       'q0012_0003', 'q0012_0004', 'q0012_0005', 'q0012_0006', 'q0012_0007',\n",
      "       'q0013', 'q0014', 'q0015', 'q0017', 'q0018', 'q0019_0001', 'q0019_0002',\n",
      "       'q0019_0003', 'q0019_0004', 'q0019_0005', 'q0019_0006', 'q0019_0007',\n",
      "       'q0020_0001', 'q0020_0002', 'q0020_0003', 'q0020_0004', 'q0020_0005',\n",
      "       'q0020_0006', 'q0021_0001', 'q0021_0002', 'q0021_0003', 'q0021_0004',\n",
      "       'q0022', 'q0024', 'q0025_0001', 'q0025_0002', 'q0025_0003', 'q0026',\n",
      "       'q0028', 'q0029', 'q0030', 'q0034', 'q0035', 'q0036', 'race2',\n",
      "       'racethn4', 'educ3', 'educ4', 'age3', 'kids', 'orientation', 'weight'],\n",
      "      dtype='object')\n",
      "1189\n",
      "Sometimes                    537\n",
      "Rarely                       324\n",
      "Often                        142\n",
      "Never, but open to it        123\n",
      "Never, and not open to it     53\n",
      "No answer                     10\n",
      "Name: q0007_0001, dtype: int64\n",
      "   Unnamed: 0     StartDate       EndDate               q0001  \\\n",
      "0           1  5/10/18 4:01  5/10/18 4:06  Somewhat masculine   \n",
      "1           2  5/10/18 6:30  5/10/18 6:53  Somewhat masculine   \n",
      "2           3  5/10/18 7:02  5/10/18 7:09      Very masculine   \n",
      "3           4  5/10/18 7:27  5/10/18 7:31      Very masculine   \n",
      "4           5  5/10/18 7:35  5/10/18 7:42      Very masculine   \n",
      "\n",
      "                q0002                  q0004_0001                  q0004_0002  \\\n",
      "0  Somewhat important                Not selected                Not selected   \n",
      "1  Somewhat important  Father or father figure(s)                Not selected   \n",
      "2   Not too important  Father or father figure(s)                Not selected   \n",
      "3   Not too important  Father or father figure(s)  Mother or mother figure(s)   \n",
      "4      Very important                Not selected                Not selected   \n",
      "\n",
      "             q0004_0003    q0004_0004    q0004_0005  ...               q0035  \\\n",
      "0          Not selected   Pop culture  Not selected  ...     Middle Atlantic   \n",
      "1          Not selected  Not selected  Not selected  ...  East North Central   \n",
      "2          Not selected  Not selected  Not selected  ...  East North Central   \n",
      "3  Other family members  Not selected  Not selected  ...  East North Central   \n",
      "4  Other family members  Not selected  Not selected  ...  East North Central   \n",
      "\n",
      "                      q0036      race2  racethn4            educ3  \\\n",
      "0  Windows Desktop / Laptop  Non-white  Hispanic  College or more   \n",
      "1        iOS Phone / Tablet      White     White     Some college   \n",
      "2  Windows Desktop / Laptop      White     White  College or more   \n",
      "3  Windows Desktop / Laptop      White     White     Some college   \n",
      "4  Windows Desktop / Laptop      White     White  College or more   \n",
      "\n",
      "             educ4       age3          kids   orientation    weight  \n",
      "0  College or more    35 - 64   No children  Gay/Bisexual  1.714026  \n",
      "1     Some college  65 and up  Has children      Straight  1.247120  \n",
      "2  College or more    35 - 64  Has children      Straight  0.515746  \n",
      "3     Some college  65 and up  Has children     No answer  0.600640  \n",
      "4  College or more    35 - 64   No children      Straight  1.033400  \n",
      "\n",
      "[5 rows x 98 columns]\n"
     ]
    }
   ],
   "source": [
    "# Investigating the data\n",
    "import pandas as pd\n",
    "\n",
    "survey = pd.read_csv(\"masculinity.csv\")\n",
    "print(survey.columns)\n",
    "print(len(survey))\n",
    "print(survey[\"q0007_0001\"].value_counts())\n",
    "print(survey.head())"
   ]
  },
  {
   "cell_type": "markdown",
   "metadata": {},
   "source": [
    "# Mapping the Data\n",
    "\n",
    "In order to start thinking about using the KMeans algorithm with this data, the survey responses need to be converted into numerical data. Consider question 7. The data can't be clustered using the phrases `\"Often\"` or `\"Rarely\"`, but those phrases can be converted into numbers. For example, the data can be mapped in the following way: \n",
    "* `\"Often\"` -> `4`\n",
    "* `\"Sometimes\"` ->  `3`\n",
    "* `\"Rarely\"` -> `2` \n",
    "* `\"Never, but open to it\"` -> `1`\n",
    "* `\"Never, and not open to it\"` -> `0`.\n",
    "\n",
    "Note that it's important that these responses are somewhat linear. `\"Often\"` is at one end of the spectrum with `\"Never, and not open to it\"` at the other. The other values fall in sequence between the two."
   ]
  },
  {
   "cell_type": "markdown",
   "metadata": {},
   "source": [
    "# Full list of questions asked in question 7, located in 'masculinity-survey.pdf'"
   ]
  },
  {
   "cell_type": "markdown",
   "metadata": {},
   "source": [
    "# How often would you say you do each of the following?\n",
    "\n",
    "1. Ask a friend for professional advice\n",
    "\n",
    "2. Ask a friend for personal advice\n",
    "\n",
    "3. Express physical affection to male friends, like hugging, rubbing shoulders \n",
    "\n",
    "4. Cry\n",
    "\n",
    "5. Get in a physical fight with another person\n",
    "\n",
    "6. Have sexual relations with women, including anything from kissing to sex \n",
    "\n",
    "7. Have sexual relations with men, including anything from kissing to sex \n",
    "\n",
    "8. Watch sports of any kind\n",
    "\n",
    "9. Work out\n",
    "\n",
    "10. See a therapist\n",
    "\n",
    "11. Feel lonely or isolated"
   ]
  },
  {
   "cell_type": "code",
   "execution_count": 2,
   "metadata": {},
   "outputs": [],
   "source": [
    "# Selection of questions to map for KMeans\n",
    "cols_to_map = [\"q0007_0001\", \"q0007_0002\", \"q0007_0003\", \"q0007_0004\",\n",
    "       \"q0007_0005\", \"q0007_0006\", \"q0007_0007\", \"q0007_0008\", \"q0007_0009\",\n",
    "       \"q0007_0010\", \"q0007_0011\"]\n",
    "for col in cols_to_map:\n",
    "    survey[col] = survey[col].map(\n",
    "        {\"Often\": 4, \"Sometimes\": 3, \"Rarely\": 2, \"Never, but open to it\": 1, \"Never, and not open to it\": 0})"
   ]
  },
  {
   "cell_type": "markdown",
   "metadata": {},
   "source": [
    "# Plotting the Data\n",
    "\n",
    "I now have 11 different features that can be used in the KMeans algorithm. Before I jump into clustering, I will graph some of these features on a 2D graph."
   ]
  },
  {
   "cell_type": "code",
   "execution_count": 10,
   "metadata": {},
   "outputs": [
    {
     "data": {
      "image/png": "[encoded data removed]",
      "text/plain": [
       "<Figure size 432x288 with 1 Axes>"
      ]
     },
     "metadata": {
      "needs_background": "light"
     },
     "output_type": "display_data"
    }
   ],
   "source": [
    "from matplotlib import pyplot as plt\n",
    "\n",
    "plt.scatter(survey[\"q0007_0001\"], survey[\"q0007_0002\"], alpha = 0.1)\n",
    "plt.xlabel(\"Ask friend for professional advice\")\n",
    "plt.ylabel(\"Ask friend for personal advice\")\n",
    "plt.show()"
   ]
  },
  {
   "cell_type": "markdown",
   "metadata": {},
   "source": [
    "# Building the KMeans Model\n",
    "\n",
    "It's now time to start clustering! There are so many interesting questions we could ask about this data. Let's start by seeing if clusters form based on traditionally masculine concepts. \n",
    "\n",
    "First I will consider the the first four sub-questions in question 7. Those four activities aren't necessarily seen as traditionally masculine. On the other hand, sub-questions 5, 8, and 9 are often seen as very masculine activities. What would happen if 2 clusters were found based on those 7 questions? Would we find clusters that represent traditionally feminine and traditionally masculine people? Let's find out."
   ]
  },
  {
   "cell_type": "code",
   "execution_count": 4,
   "metadata": {},
   "outputs": [
    {
     "name": "stdout",
     "output_type": "stream",
     "text": [
      "[[2.84548105 2.81632653 2.84110787 2.39941691 0.69387755 3.06997085\n",
      "  2.90087464]\n",
      " [1.87830688 1.84391534 0.85185185 1.72486772 0.57142857 2.64021164\n",
      "  1.97089947]]\n"
     ]
    }
   ],
   "source": [
    "from sklearn.cluster import KMeans\n",
    "\n",
    "# The 7 survey responses that will be focused on\n",
    "questions_of_interest = [\"q0007_0001\", \"q0007_0002\", \"q0007_0003\", \"q0007_0004\", \"q0007_0005\", \n",
    "                         \"q0007_0008\", \"q0007_0009\"]\n",
    "\n",
    "# Creating a new dataframe without NaN values \n",
    "rows_to_cluster = survey.dropna(subset = questions_of_interest)\n",
    "\n",
    "# Building and fitting the KMeans classifier \n",
    "# 1 cluster represents traditionally masculine answers while the other cluster represents traditionally feminine answers\n",
    "# 1 cluster for each, so n_clusters = 2\n",
    "classifier = KMeans(n_clusters = 2)\n",
    "classifier.fit(rows_to_cluster[questions_of_interest])\n",
    "print(classifier.cluster_centers_)"
   ]
  },
  {
   "cell_type": "markdown",
   "metadata": {},
   "source": [
    "# Separating the Cluster Members\n",
    "\n",
    "When looking at the two clusters, the first four numbers represent the traditionally feminine activities and the last three represent the traditionally masculine activities. If the data points separated into a feminine cluster and a masculine cluster, one would expect to see one cluster to have high values for the first four numbers and the other cluster to have high values for the last three numbers.\n",
    "\n",
    "Instead, the first cluster has a higher value in every feature. Since a higher number means the person was more likely to \"often\" do something, the clusters seem to represent \"people who do things\" and \"people who don't do things\".\n",
    "\n",
    "I might be able to find out more information about these clusters by looking at the specific members of each cluster."
   ]
  },
  {
   "cell_type": "code",
   "execution_count": 5,
   "metadata": {
    "scrolled": true
   },
   "outputs": [
    {
     "name": "stdout",
     "output_type": "stream",
     "text": [
      "[0, 2, 3, 5, 8, 11, 13, 15, 16, 20, 21, 22, 23, 25, 26, 27, 28, 30, 31, 32, 33, 34, 36, 37, 38, 40, 41, 43, 44, 45, 46, 47, 48, 50, 56, 59, 60, 61, 64, 67, 68, 69, 70, 71, 72, 73, 74, 76, 77, 80, 81, 83, 85, 91, 93, 96, 99, 100, 102, 103, 104, 105, 108, 110, 111, 112, 114, 115, 120, 121, 122, 124, 125, 126, 127, 133, 135, 136, 137, 138, 140, 141, 144, 145, 146, 147, 148, 149, 150, 151, 152, 153, 155, 156, 157, 158, 159, 160, 161, 162, 163, 164, 165, 166, 167, 168, 169, 170, 171, 173, 174, 177, 182, 183, 185, 186, 188, 190, 191, 192, 193, 194, 197, 200, 202, 203, 204, 205, 206, 207, 208, 210, 211, 213, 214, 215, 216, 217, 218, 219, 220, 221, 223, 224, 225, 226, 227, 228, 232, 234, 235, 238, 239, 242, 243, 244, 245, 246, 251, 252, 253, 254, 255, 257, 258, 259, 262, 265, 266, 267, 268, 269, 270, 271, 273, 274, 276, 277, 278, 279, 280, 282, 285, 287, 289, 290, 292, 293, 294, 295, 298, 302, 303, 304, 306, 307, 308, 309, 312, 313, 314, 315, 316, 317, 318, 319, 320, 321, 322, 323, 324, 326, 327, 329, 330, 332, 333, 334, 335, 338, 339, 342, 344, 345, 346, 348, 349, 352, 354, 355, 356, 357, 358, 359, 360, 362, 363, 364, 365, 366, 368, 370, 371, 372, 373, 374, 375, 376, 379, 380, 381, 382, 383, 384, 385, 386, 387, 388, 389, 395, 400, 401, 402, 403, 404, 405, 406, 407, 408, 413, 414, 416, 420, 421, 422, 423, 424, 426, 427, 430, 431, 433, 434, 435, 436, 437, 438, 439, 440, 441, 442, 443, 444, 445, 446, 447, 448, 450, 451, 452, 453, 456, 458, 460, 462, 464, 465, 466, 467, 469, 472, 473, 474, 475, 479, 480, 481, 482, 483, 485, 486, 487, 488, 491, 492, 495, 497, 500, 501, 503, 504, 505, 506, 507, 511, 512, 513, 514, 517, 518, 519, 520, 522, 524, 527, 528, 530, 532, 534, 535, 536, 537, 538, 539, 540, 541, 543, 544, 545, 547, 548, 550, 551, 552, 553, 554, 557, 558, 561, 565, 568, 569, 571, 572, 573, 574, 575, 576, 578, 581, 582, 583, 584, 586, 587, 590, 591, 594, 595, 596, 597, 598, 600, 601, 602, 604, 605, 606, 607, 608, 609, 611, 612, 613, 614, 615, 618, 621, 623, 624, 627, 628, 630, 632, 633, 635, 640, 641, 642, 643, 644, 645, 646, 647, 648, 650, 652, 653, 657, 658, 660, 661, 663, 664, 665, 666, 667, 668, 670, 671, 672, 673, 674, 675, 676, 678, 679, 680, 682, 684, 688, 689, 690, 693, 694, 695, 698, 699, 700, 701, 703, 704, 705, 706, 707, 708, 709, 711, 712, 713, 714, 715, 716, 717, 724, 725, 727, 729, 731, 732, 733, 734, 735, 737, 739, 740, 742, 743, 746, 747, 752, 753, 754, 755, 756, 757, 760, 761, 763, 764, 765, 767, 770, 771, 773, 774, 779, 780, 781, 784, 785, 786, 791, 793, 796, 798, 802, 804, 806, 807, 808, 809, 811, 812, 813, 815, 816, 817, 818, 819, 820, 822, 823, 824, 825, 828, 829, 830, 832, 833, 834, 835, 836, 838, 840, 841, 842, 844, 845, 846, 847, 850, 851, 852, 854, 855, 857, 859, 861, 862, 863, 864, 865, 866, 867, 869, 870, 873, 876, 877, 878, 881, 885, 887, 888, 889, 890, 891, 893, 899, 903, 905, 906, 907, 908, 909, 910, 912, 913, 915, 916, 917, 920, 921, 925, 926, 927, 928, 930, 931, 933, 934, 935, 937, 938, 940, 941, 942, 944, 945, 946, 947, 949, 950, 951, 952, 953, 955, 956, 957, 959, 960, 964, 965, 966, 969, 972, 973, 975, 976, 977, 979, 980, 981, 983, 984, 986, 988, 990, 992, 994, 995, 996, 997, 999, 1001, 1002, 1004, 1005, 1006, 1008, 1009, 1010, 1012, 1015, 1017, 1018, 1019, 1020, 1021, 1022, 1023, 1024, 1026, 1027, 1028, 1029, 1030, 1031, 1032, 1033, 1034, 1035, 1040, 1041, 1043, 1044, 1047, 1049, 1051, 1052, 1053, 1056, 1058, 1059, 1060]\n"
     ]
    }
   ],
   "source": [
    "# Creating lists of cluster indices for the two clusters\n",
    "cluster_zero_indices = []\n",
    "cluster_one_indices = []\n",
    "\n",
    "for i in range(len(classifier.labels_)):\n",
    "    if classifier.labels_[i] == 0:\n",
    "        cluster_zero_indices.append(i)\n",
    "    elif classifier.labels_[i] == 1:\n",
    "        cluster_one_indices.append(i)\n",
    "        \n",
    "print(cluster_zero_indices)"
   ]
  },
  {
   "cell_type": "markdown",
   "metadata": {},
   "source": [
    "# Investigating the Cluster Members\n",
    "\n",
    "Now that I have the indices for each cluster, I will try and gain some insight into these two clusters. "
   ]
  },
  {
   "cell_type": "code",
   "execution_count": 6,
   "metadata": {
    "scrolled": true
   },
   "outputs": [],
   "source": [
    "# Creating dataframes for the 2 clusters\n",
    "cluster_zero_df = rows_to_cluster.iloc[cluster_zero_indices]\n",
    "cluster_one_df = rows_to_cluster.iloc[cluster_one_indices]"
   ]
  },
  {
   "cell_type": "markdown",
   "metadata": {},
   "source": [
    "Reminder of traditionally masculine activities:\n",
    "\n",
    "q0007_005: Get in a physical fight with another person\n",
    " \n",
    "q0007_0008: Watch sports of any kind\n",
    "\n",
    "q0007_0009: Work out\n",
    "\n",
    "* `\"Often\"` -> `4`\n",
    "* `\"Sometimes\"` ->  `3`\n",
    "* `\"Rarely\"` -> `2` \n",
    "* `\"Never, but open to it\"` -> `1`\n",
    "* `\"Never, and not open to it\"` -> `0`."
   ]
  },
  {
   "cell_type": "code",
   "execution_count": 7,
   "metadata": {
    "scrolled": true
   },
   "outputs": [
    {
     "name": "stdout",
     "output_type": "stream",
     "text": [
      "Cluster 0:\n",
      "0.0    0.571429\n",
      "2.0    0.209913\n",
      "1.0    0.193878\n",
      "3.0    0.018950\n",
      "4.0    0.005831\n",
      "Name: q0007_0005, dtype: float64\n",
      "Cluster 1:\n",
      "0.0    0.640212\n",
      "1.0    0.182540\n",
      "2.0    0.150794\n",
      "3.0    0.018519\n",
      "4.0    0.007937\n",
      "Name: q0007_0005, dtype: float64\n",
      "Cluster 0:\n",
      "4.0    0.441691\n",
      "3.0    0.297376\n",
      "2.0    0.190962\n",
      "0.0    0.040816\n",
      "1.0    0.029155\n",
      "Name: q0007_0008, dtype: float64\n",
      "Cluster 1:\n",
      "4.0    0.351852\n",
      "3.0    0.280423\n",
      "2.0    0.171958\n",
      "0.0    0.148148\n",
      "1.0    0.047619\n",
      "Name: q0007_0008, dtype: float64\n",
      "Cluster 0:\n",
      "3.0    0.351312\n",
      "4.0    0.320700\n",
      "2.0    0.258017\n",
      "1.0    0.048105\n",
      "0.0    0.021866\n",
      "Name: q0007_0009, dtype: float64\n",
      "Cluster 1:\n",
      "2.0    0.320106\n",
      "3.0    0.224868\n",
      "0.0    0.179894\n",
      "1.0    0.148148\n",
      "4.0    0.126984\n",
      "Name: q0007_0009, dtype: float64\n"
     ]
    }
   ],
   "source": [
    "masc = [\"q0007_0005\", \"q0007_0008\", \"q0007_0009\"]\n",
    "for q in masc:\n",
    "    print(\"Cluster 0:\")\n",
    "    print(cluster_zero_df[q].value_counts()/len(cluster_zero_df))\n",
    "    print(\"Cluster 1:\")\n",
    "    print(cluster_one_df[q].value_counts()/len(cluster_one_df))"
   ]
  },
  {
   "cell_type": "markdown",
   "metadata": {},
   "source": [
    "Reminder of traditionally feminine activities:\n",
    "\n",
    "q0007_0001: Ask a friend for professional advice\n",
    " \n",
    "q0007_0002: Ask a friend for personal advice\n",
    "\n",
    "q0007_0003: Express physical affection to male friends, like hugging, rubbing shoulders\n",
    "\n",
    "q0007_0004: Cry\n",
    "\n",
    "* `\"Often\"` -> `4`\n",
    "* `\"Sometimes\"` ->  `3`\n",
    "* `\"Rarely\"` -> `2` \n",
    "* `\"Never, but open to it\"` -> `1`\n",
    "* `\"Never, and not open to it\"` -> `0`."
   ]
  },
  {
   "cell_type": "code",
   "execution_count": 8,
   "metadata": {
    "scrolled": true
   },
   "outputs": [
    {
     "name": "stdout",
     "output_type": "stream",
     "text": [
      "Cluster 0:\n",
      "3.0    0.553936\n",
      "2.0    0.224490\n",
      "4.0    0.174927\n",
      "1.0    0.034985\n",
      "0.0    0.011662\n",
      "Name: q0007_0001, dtype: float64\n",
      "Cluster 1:\n",
      "2.0    0.354497\n",
      "3.0    0.275132\n",
      "1.0    0.238095\n",
      "0.0    0.105820\n",
      "4.0    0.026455\n",
      "Name: q0007_0001, dtype: float64\n",
      "Cluster 0:\n",
      "3.0    0.539359\n",
      "2.0    0.271137\n",
      "4.0    0.155977\n",
      "1.0    0.032070\n",
      "0.0    0.001458\n",
      "Name: q0007_0002, dtype: float64\n",
      "Cluster 1:\n",
      "2.0    0.433862\n",
      "3.0    0.240741\n",
      "1.0    0.190476\n",
      "0.0    0.119048\n",
      "4.0    0.015873\n",
      "Name: q0007_0002, dtype: float64\n",
      "Cluster 0:\n",
      "3.0    0.437318\n",
      "2.0    0.314869\n",
      "4.0    0.220117\n",
      "1.0    0.018950\n",
      "0.0    0.008746\n",
      "Name: q0007_0003, dtype: float64\n",
      "Cluster 1:\n",
      "0.0    0.523810\n",
      "2.0    0.235450\n",
      "1.0    0.174603\n",
      "3.0    0.058201\n",
      "4.0    0.007937\n",
      "Name: q0007_0003, dtype: float64\n",
      "Cluster 0:\n",
      "2.0    0.447522\n",
      "3.0    0.411079\n",
      "1.0    0.061224\n",
      "4.0    0.052478\n",
      "0.0    0.027697\n",
      "Name: q0007_0004, dtype: float64\n",
      "Cluster 1:\n",
      "2.0    0.465608\n",
      "1.0    0.190476\n",
      "3.0    0.179894\n",
      "0.0    0.148148\n",
      "4.0    0.015873\n",
      "Name: q0007_0004, dtype: float64\n"
     ]
    }
   ],
   "source": [
    "fem = [\"q0007_0001\", \"q0007_0002\", \"q0007_0003\", \"q0007_0004\"]\n",
    "for q in fem:\n",
    "    print(\"Cluster 0:\")\n",
    "    print(cluster_zero_df[q].value_counts()/len(cluster_zero_df))\n",
    "    print(\"Cluster 1:\")\n",
    "    print(cluster_one_df[q].value_counts()/len(cluster_one_df))"
   ]
  },
  {
   "cell_type": "code",
   "execution_count": 9,
   "metadata": {},
   "outputs": [
    {
     "name": "stdout",
     "output_type": "stream",
     "text": [
      "Cluster Zero:\n",
      "Post graduate degree    0.365889\n",
      "College or more         0.330904\n",
      "Some college            0.230321\n",
      "High school or less     0.072886\n",
      "Name: educ4, dtype: float64\n",
      "Cluster One:\n",
      "Some college            0.314815\n",
      "College or more         0.285714\n",
      "Post graduate degree    0.251323\n",
      "High school or less     0.145503\n",
      "Name: educ4, dtype: float64\n"
     ]
    }
   ],
   "source": [
    "print(\"Cluster Zero:\")\n",
    "print(cluster_zero_df[\"educ4\"].value_counts()/len(cluster_zero_df))\n",
    "print(\"Cluster One:\")\n",
    "print(cluster_one_df[\"educ4\"].value_counts()/len(cluster_one_df))"
   ]
  },
  {
   "cell_type": "markdown",
   "metadata": {},
   "source": [
    "# Discussion\n",
    "\n",
    "My analysis seems to indicate that the survey responses to the 7 questions that were focused on do not result in people falling into a \"masculine\" category or a \"feminine\" category. Instead, they seem to be divided by their level of education. \n",
    "\n",
    "Special thanks to the team at FiveThirtyEight and Codecademy for providing me with access to this data!"
   ]
  }
 ],
 "metadata": {
  "kernelspec": {
   "display_name": "Python 3",
   "language": "python",
   "name": "python3"
  },
  "language_info": {
   "codemirror_mode": {
    "name": "ipython",
    "version": 3
   },
   "file_extension": ".py",
   "mimetype": "text/x-python",
   "name": "python",
   "nbconvert_exporter": "python",
   "pygments_lexer": "ipython3",
   "version": "3.7.4"
  }
 },
 "nbformat": 4,
 "nbformat_minor": 2
}
