{
 "cells": [
  {
   "cell_type": "markdown",
   "metadata": {},
   "source": [
    "# Classifying Masculinity with KMeans++\n",
    "\n",
    "In this project, I will be investigating the way people think about masculinity by applying the KMeans algorithm to data from  FiveThirtyEight. FiveThirtyEight is a popular website known for their use of statistical analysis in many of their stories.\n",
    "\n",
    "FiveThirtyEight and WNYC studios used `masculinity-survey.pdf` to get their male readers' thoughts on masculinity. I'm going to try to find more insights into the survey responses by using a KMeans classifier."
   ]
  },
  {
   "cell_type": "code",
   "execution_count": 1,
   "metadata": {},
   "outputs": [
    {
     "name": "stdout",
     "output_type": "stream",
     "text": [
      "Index(['Unnamed: 0', 'StartDate', 'EndDate', 'q0001', 'q0002', 'q0004_0001',\n",
      "       'q0004_0002', 'q0004_0003', 'q0004_0004', 'q0004_0005', 'q0004_0006',\n",
      "       'q0005', 'q0007_0001', 'q0007_0002', 'q0007_0003', 'q0007_0004',\n",
      "       'q0007_0005', 'q0007_0006', 'q0007_0007', 'q0007_0008', 'q0007_0009',\n",
      "       'q0007_0010', 'q0007_0011', 'q0008_0001', 'q0008_0002', 'q0008_0003',\n",
      "       'q0008_0004', 'q0008_0005', 'q0008_0006', 'q0008_0007', 'q0008_0008',\n",
      "       'q0008_0009', 'q0008_0010', 'q0008_0011', 'q0008_0012', 'q0009',\n",
      "       'q0010_0001', 'q0010_0002', 'q0010_0003', 'q0010_0004', 'q0010_0005',\n",
      "       'q0010_0006', 'q0010_0007', 'q0010_0008', 'q0011_0001', 'q0011_0002',\n",
      "       'q0011_0003', 'q0011_0004', 'q0011_0005', 'q0012_0001', 'q0012_0002',\n",
      "       'q0012_0003', 'q0012_0004', 'q0012_0005', 'q0012_0006', 'q0012_0007',\n",
      "       'q0013', 'q0014', 'q0015', 'q0017', 'q0018', 'q0019_0001', 'q0019_0002',\n",
      "       'q0019_0003', 'q0019_0004', 'q0019_0005', 'q0019_0006', 'q0019_0007',\n",
      "       'q0020_0001', 'q0020_0002', 'q0020_0003', 'q0020_0004', 'q0020_0005',\n",
      "       'q0020_0006', 'q0021_0001', 'q0021_0002', 'q0021_0003', 'q0021_0004',\n",
      "       'q0022', 'q0024', 'q0025_0001', 'q0025_0002', 'q0025_0003', 'q0026',\n",
      "       'q0028', 'q0029', 'q0030', 'q0034', 'q0035', 'q0036', 'race2',\n",
      "       'racethn4', 'educ3', 'educ4', 'age3', 'kids', 'orientation', 'weight'],\n",
      "      dtype='object')\n",
      "1189\n",
      "Sometimes                    537\n",
      "Rarely                       324\n",
      "Often                        142\n",
      "Never, but open to it        123\n",
      "Never, and not open to it     53\n",
      "No answer                     10\n",
      "Name: q0007_0001, dtype: int64\n",
      "   Unnamed: 0     StartDate       EndDate               q0001  \\\n",
      "0           1  5/10/18 4:01  5/10/18 4:06  Somewhat masculine   \n",
      "1           2  5/10/18 6:30  5/10/18 6:53  Somewhat masculine   \n",
      "2           3  5/10/18 7:02  5/10/18 7:09      Very masculine   \n",
      "3           4  5/10/18 7:27  5/10/18 7:31      Very masculine   \n",
      "4           5  5/10/18 7:35  5/10/18 7:42      Very masculine   \n",
      "\n",
      "                q0002                  q0004_0001                  q0004_0002  \\\n",
      "0  Somewhat important                Not selected                Not selected   \n",
      "1  Somewhat important  Father or father figure(s)                Not selected   \n",
      "2   Not too important  Father or father figure(s)                Not selected   \n",
      "3   Not too important  Father or father figure(s)  Mother or mother figure(s)   \n",
      "4      Very important                Not selected                Not selected   \n",
      "\n",
      "             q0004_0003    q0004_0004    q0004_0005  ...               q0035  \\\n",
      "0          Not selected   Pop culture  Not selected  ...     Middle Atlantic   \n",
      "1          Not selected  Not selected  Not selected  ...  East North Central   \n",
      "2          Not selected  Not selected  Not selected  ...  East North Central   \n",
      "3  Other family members  Not selected  Not selected  ...  East North Central   \n",
      "4  Other family members  Not selected  Not selected  ...  East North Central   \n",
      "\n",
      "                      q0036      race2  racethn4            educ3  \\\n",
      "0  Windows Desktop / Laptop  Non-white  Hispanic  College or more   \n",
      "1        iOS Phone / Tablet      White     White     Some college   \n",
      "2  Windows Desktop / Laptop      White     White  College or more   \n",
      "3  Windows Desktop / Laptop      White     White     Some college   \n",
      "4  Windows Desktop / Laptop      White     White  College or more   \n",
      "\n",
      "             educ4       age3          kids   orientation    weight  \n",
      "0  College or more    35 - 64   No children  Gay/Bisexual  1.714026  \n",
      "1     Some college  65 and up  Has children      Straight  1.247120  \n",
      "2  College or more    35 - 64  Has children      Straight  0.515746  \n",
      "3     Some college  65 and up  Has children     No answer  0.600640  \n",
      "4  College or more    35 - 64   No children      Straight  1.033400  \n",
      "\n",
      "[5 rows x 98 columns]\n"
     ]
    }
   ],
   "source": [
    "# Investigating the data\n",
    "import pandas as pd\n",
    "\n",
    "survey = pd.read_csv(\"masculinity.csv\")\n",
    "print(survey.columns)\n",
    "print(len(survey))\n",
    "print(survey[\"q0007_0001\"].value_counts())\n",
    "print(survey.head())"
   ]
  },
  {
   "cell_type": "markdown",
   "metadata": {},
   "source": [
    "# Mapping the Data\n",
    "\n",
    "In order to start thinking about using the KMeans algorithm with this data, the survey responses need to be converted into numerical data. Consider question 7. The data can't be clustered using the phrases `\"Often\"` or `\"Rarely\"`, but those phrases can be converted into numbers. For example, the data can be mapped in the following way: \n",
    "* `\"Often\"` -> `4`\n",
    "* `\"Sometimes\"` ->  `3`\n",
    "* `\"Rarely\"` -> `2` \n",
    "* `\"Never, but open to it\"` -> `1`\n",
    "* `\"Never, and not open to it\"` -> `0`.\n",
    "\n",
    "Note that it's important that these responses are somewhat linear. `\"Often\"` is at one end of the spectrum with `\"Never, and not open to it\"` at the other. The other values fall in sequence between the two."
   ]
  },
  {
   "cell_type": "markdown",
   "metadata": {},
   "source": [
    "# Full list of questions asked in question 7, located in 'masculinity-survey.pdf'"
   ]
  },
  {
   "cell_type": "markdown",
   "metadata": {},
   "source": [
    "# How often would you say you do each of the following?\n",
    "\n",
    "1. Ask a friend for professional advice\n",
    "\n",
    "2. Ask a friend for personal advice\n",
    "\n",
    "3. Express physical affection to male friends, like hugging, rubbing shoulders \n",
    "\n",
    "4. Cry\n",
    "\n",
    "5. Get in a physical fight with another person\n",
    "\n",
    "6. Have sexual relations with women, including anything from kissing to sex \n",
    "\n",
    "7. Have sexual relations with men, including anything from kissing to sex \n",
    "\n",
    "8. Watch sports of any kind\n",
    "\n",
    "9. Work out\n",
    "\n",
    "10. See a therapist\n",
    "\n",
    "11. Feel lonely or isolated"
   ]
  },
  {
   "cell_type": "code",
   "execution_count": 2,
   "metadata": {},
   "outputs": [],
   "source": [
    "# Selection of questions to map for KMeans\n",
    "cols_to_map = [\"q0007_0001\", \"q0007_0002\", \"q0007_0003\", \"q0007_0004\",\n",
    "       \"q0007_0005\", \"q0007_0006\", \"q0007_0007\", \"q0007_0008\", \"q0007_0009\",\n",
    "       \"q0007_0010\", \"q0007_0011\"]\n",
    "for col in cols_to_map:\n",
    "    survey[col] = survey[col].map(\n",
    "        {\"Often\": 4, \"Sometimes\": 3, \"Rarely\": 2, \"Never, but open to it\": 1, \"Never, and not open to it\": 0})"
   ]
  },
  {
   "cell_type": "markdown",
   "metadata": {},
   "source": [
    "# Plotting the Data\n",
    "\n",
    "I now have 11 different features that can be used in the KMeans algorithm. Before I jump into clustering, I will graph some of these features on a 2D graph."
   ]
  },
  {
   "cell_type": "code",
   "execution_count": 3,
   "metadata": {},
   "outputs": [
    {
     "data": {
      "text/plain": [
       "<Figure size 640x480 with 1 Axes>"
      ]
     },
     "metadata": {},
     "output_type": "display_data"
    }
   ],
   "source": [
    "from matplotlib import pyplot as plt\n",
    "\n",
    "plt.scatter(survey[\"q0007_0001\"], survey[\"q0007_0002\"], alpha = 0.1)\n",
    "plt.xlabel(\"Ask friend for professional advice\")\n",
    "plt.ylabel(\"Ask friend for personal advice\")\n",
    "plt.show()"
   ]
  },
  {
   "cell_type": "markdown",
   "metadata": {},
   "source": [
    "# Building the KMeans Model\n",
    "\n",
    "It's now time to start clustering! There are so many interesting questions we could ask about this data. Let's start by seeing if clusters form based on traditionally masculine concepts. \n",
    "\n",
    "First I will consider the the first four sub-questions in question 7. Those four activities aren't necessarily seen as traditionally masculine. On the other hand, sub-questions 5, 8, and 9 are often seen as very masculine activities. What would happen if 2 clusters were found based on those 7 questions? Would we find clusters that represent traditionally feminine and traditionally masculine people? Let's find out."
   ]
  },
  {
   "cell_type": "code",
   "execution_count": 4,
   "metadata": {},
   "outputs": [
    {
     "name": "stdout",
     "output_type": "stream",
     "text": [
      "[[1.87798408 1.84350133 0.84615385 1.72413793 0.56763926 2.63660477\n",
      "  1.97612732]\n",
      " [2.84425036 2.81513828 2.84133916 2.39883552 0.69577875 3.0713246\n",
      "  2.89665211]]\n"
     ]
    }
   ],
   "source": [
    "from sklearn.cluster import KMeans\n",
    "\n",
    "# The 7 survey responses that will be focused on\n",
    "questions_of_interest = [\"q0007_0001\", \"q0007_0002\", \"q0007_0003\", \"q0007_0004\", \"q0007_0005\", \n",
    "                         \"q0007_0008\", \"q0007_0009\"]\n",
    "\n",
    "# Creating a new dataframe without NaN values \n",
    "rows_to_cluster = survey.dropna(subset = questions_of_interest)\n",
    "\n",
    "# Building and fitting the KMeans classifier \n",
    "# 1 cluster represents traditionally masculine answers while the other cluster represents traditionally feminine answers\n",
    "# 1 cluster for each, so n_clusters = 2\n",
    "classifier = KMeans(n_clusters = 2)\n",
    "classifier.fit(rows_to_cluster[questions_of_interest])\n",
    "print(classifier.cluster_centers_)"
   ]
  },
  {
   "cell_type": "markdown",
   "metadata": {},
   "source": [
    "# Separating the Cluster Members\n",
    "\n",
    "When looking at the two clusters, the first four numbers represent the traditionally feminine activities and the last three represent the traditionally masculine activities. If the data points separated into a feminine cluster and a masculine cluster, one would expect to see one cluster to have high values for the first four numbers and the other cluster to have high values for the last three numbers.\n",
    "\n",
    "Instead, the first cluster has a higher value in every feature. Since a higher number means the person was more likely to \"often\" do something, the clusters seem to represent \"people who do things\" and \"people who don't do things\".\n",
    "\n",
    "I might be able to find out more information about these clusters by looking at the specific members of each cluster."
   ]
  },
  {
   "cell_type": "code",
   "execution_count": 5,
   "metadata": {
    "scrolled": true
   },
   "outputs": [
    {
     "name": "stdout",
     "output_type": "stream",
     "text": [
      "[1, 4, 6, 7, 9, 10, 12, 14, 17, 18, 19, 24, 29, 35, 39, 42, 49, 51, 52, 53, 54, 55, 57, 58, 62, 63, 65, 66, 75, 78, 79, 82, 84, 86, 87, 88, 89, 90, 92, 94, 95, 97, 98, 101, 106, 107, 109, 113, 116, 117, 119, 123, 128, 129, 130, 131, 132, 134, 139, 142, 143, 154, 172, 175, 176, 178, 179, 180, 181, 184, 187, 189, 195, 196, 198, 199, 201, 209, 212, 222, 229, 230, 231, 233, 236, 237, 240, 241, 247, 248, 249, 250, 256, 260, 261, 263, 264, 272, 275, 281, 283, 284, 286, 288, 291, 296, 297, 299, 300, 301, 305, 310, 311, 325, 328, 331, 336, 337, 340, 341, 343, 347, 350, 351, 353, 361, 367, 369, 377, 378, 390, 391, 392, 393, 394, 396, 397, 398, 399, 409, 410, 411, 412, 415, 417, 418, 419, 425, 428, 429, 432, 449, 454, 455, 457, 459, 461, 463, 468, 470, 471, 476, 477, 478, 484, 489, 490, 493, 494, 496, 498, 499, 502, 508, 509, 510, 515, 516, 521, 523, 525, 526, 529, 531, 533, 542, 546, 549, 555, 556, 559, 560, 562, 563, 564, 566, 567, 570, 577, 579, 580, 585, 588, 589, 592, 593, 599, 603, 610, 616, 617, 619, 620, 622, 625, 626, 629, 631, 634, 636, 637, 638, 639, 649, 651, 654, 655, 656, 659, 662, 669, 677, 681, 683, 685, 686, 687, 691, 692, 696, 697, 702, 710, 718, 719, 720, 721, 722, 723, 726, 728, 730, 736, 738, 741, 744, 745, 748, 749, 750, 751, 758, 759, 762, 766, 768, 769, 772, 775, 776, 777, 778, 782, 783, 787, 788, 789, 790, 792, 794, 795, 797, 799, 800, 801, 803, 805, 810, 814, 821, 826, 827, 831, 837, 839, 843, 848, 849, 853, 856, 858, 860, 868, 871, 872, 874, 875, 879, 880, 882, 883, 884, 886, 892, 894, 895, 896, 897, 898, 900, 901, 902, 904, 911, 914, 918, 919, 922, 923, 924, 929, 932, 936, 939, 943, 948, 954, 958, 961, 962, 963, 967, 968, 970, 971, 974, 978, 982, 985, 987, 989, 991, 993, 998, 1000, 1003, 1007, 1011, 1013, 1014, 1016, 1025, 1036, 1037, 1038, 1039, 1042, 1045, 1046, 1048, 1050, 1054, 1055, 1057, 1061, 1062, 1063]\n"
     ]
    }
   ],
   "source": [
    "# Creating lists of cluster indices for the two clusters\n",
    "cluster_zero_indices = []\n",
    "cluster_one_indices = []\n",
    "\n",
    "for i in range(len(classifier.labels_)):\n",
    "    if classifier.labels_[i] == 0:\n",
    "        cluster_zero_indices.append(i)\n",
    "    elif classifier.labels_[i] == 1:\n",
    "        cluster_one_indices.append(i)\n",
    "        \n",
    "print(cluster_zero_indices)"
   ]
  },
  {
   "cell_type": "markdown",
   "metadata": {},
   "source": [
    "# Investigating the Cluster Members\n",
    "\n",
    "Now that I have the indices for each cluster, I will try and gain some insight into these two clusters. "
   ]
  },
  {
   "cell_type": "code",
   "execution_count": 6,
   "metadata": {
    "scrolled": true
   },
   "outputs": [],
   "source": [
    "# Creating dataframes for the 2 clusters\n",
    "cluster_zero_df = rows_to_cluster.iloc[cluster_zero_indices]\n",
    "cluster_one_df = rows_to_cluster.iloc[cluster_one_indices]"
   ]
  },
  {
   "cell_type": "markdown",
   "metadata": {},
   "source": [
    "Reminder of traditionally masculine activities:\n",
    "\n",
    "q0007_005: Get in a physical fight with another person\n",
    " \n",
    "q0007_0008: Watch sports of any kind\n",
    "\n",
    "q0007_0009: Work out\n",
    "\n",
    "* `\"Often\"` -> `4`\n",
    "* `\"Sometimes\"` ->  `3`\n",
    "* `\"Rarely\"` -> `2` \n",
    "* `\"Never, but open to it\"` -> `1`\n",
    "* `\"Never, and not open to it\"` -> `0`."
   ]
  },
  {
   "cell_type": "code",
   "execution_count": 7,
   "metadata": {
    "scrolled": true
   },
   "outputs": [
    {
     "name": "stdout",
     "output_type": "stream",
     "text": [
      "Cluster 0:\n",
      "0.0    0.641910\n",
      "1.0    0.183024\n",
      "2.0    0.148541\n",
      "3.0    0.018568\n",
      "4.0    0.007958\n",
      "Name: q0007_0005, dtype: float64\n",
      "Cluster 1:\n",
      "0.0    0.570597\n",
      "2.0    0.211063\n",
      "1.0    0.193595\n",
      "3.0    0.018923\n",
      "4.0    0.005822\n",
      "Name: q0007_0005, dtype: float64\n",
      "Cluster 0:\n",
      "4.0    0.350133\n",
      "3.0    0.281167\n",
      "2.0    0.172414\n",
      "0.0    0.148541\n",
      "1.0    0.047745\n",
      "Name: q0007_0008, dtype: float64\n",
      "Cluster 1:\n",
      "4.0    0.442504\n",
      "3.0    0.296943\n",
      "2.0    0.190684\n",
      "0.0    0.040757\n",
      "1.0    0.029112\n",
      "Name: q0007_0008, dtype: float64\n",
      "Cluster 0:\n",
      "2.0    0.320955\n",
      "3.0    0.225464\n",
      "0.0    0.177719\n",
      "1.0    0.148541\n",
      "4.0    0.127321\n",
      "Name: q0007_0009, dtype: float64\n",
      "Cluster 1:\n",
      "3.0    0.350801\n",
      "4.0    0.320233\n",
      "2.0    0.257642\n",
      "1.0    0.048035\n",
      "0.0    0.023290\n",
      "Name: q0007_0009, dtype: float64\n"
     ]
    }
   ],
   "source": [
    "masc = [\"q0007_0005\", \"q0007_0008\", \"q0007_0009\"]\n",
    "for q in masc:\n",
    "    print(\"Cluster 0:\")\n",
    "    print(cluster_zero_df[q].value_counts()/len(cluster_zero_df))\n",
    "    print(\"Cluster 1:\")\n",
    "    print(cluster_one_df[q].value_counts()/len(cluster_one_df))"
   ]
  },
  {
   "cell_type": "markdown",
   "metadata": {},
   "source": [
    "Reminder of traditionally feminine activities:\n",
    "\n",
    "q0007_0001: Ask a friend for professional advice\n",
    " \n",
    "q0007_0002: Ask a friend for personal advice\n",
    "\n",
    "q0007_0003: Express physical affection to male friends, like hugging, rubbing shoulders\n",
    "\n",
    "q0007_0004: Cry\n",
    "\n",
    "* `\"Often\"` -> `4`\n",
    "* `\"Sometimes\"` ->  `3`\n",
    "* `\"Rarely\"` -> `2` \n",
    "* `\"Never, but open to it\"` -> `1`\n",
    "* `\"Never, and not open to it\"` -> `0`."
   ]
  },
  {
   "cell_type": "code",
   "execution_count": 8,
   "metadata": {
    "scrolled": true
   },
   "outputs": [
    {
     "name": "stdout",
     "output_type": "stream",
     "text": [
      "Cluster 0:\n",
      "2.0    0.352785\n",
      "3.0    0.275862\n",
      "1.0    0.238727\n",
      "0.0    0.106101\n",
      "4.0    0.026525\n",
      "Name: q0007_0001, dtype: float64\n",
      "Cluster 1:\n",
      "3.0    0.553130\n",
      "2.0    0.225619\n",
      "4.0    0.174672\n",
      "1.0    0.034934\n",
      "0.0    0.011645\n",
      "Name: q0007_0001, dtype: float64\n",
      "Cluster 0:\n",
      "2.0    0.432361\n",
      "3.0    0.241379\n",
      "1.0    0.190981\n",
      "0.0    0.119363\n",
      "4.0    0.015915\n",
      "Name: q0007_0002, dtype: float64\n",
      "Cluster 1:\n",
      "3.0    0.538574\n",
      "2.0    0.272198\n",
      "4.0    0.155750\n",
      "1.0    0.032023\n",
      "0.0    0.001456\n",
      "Name: q0007_0002, dtype: float64\n",
      "Cluster 0:\n",
      "0.0    0.525199\n",
      "2.0    0.236074\n",
      "1.0    0.175066\n",
      "3.0    0.055703\n",
      "4.0    0.007958\n",
      "Name: q0007_0003, dtype: float64\n",
      "Cluster 1:\n",
      "3.0    0.438137\n",
      "2.0    0.314410\n",
      "4.0    0.219796\n",
      "1.0    0.018923\n",
      "0.0    0.008734\n",
      "Name: q0007_0003, dtype: float64\n",
      "Cluster 0:\n",
      "2.0    0.464191\n",
      "1.0    0.190981\n",
      "3.0    0.180371\n",
      "0.0    0.148541\n",
      "4.0    0.015915\n",
      "Name: q0007_0004, dtype: float64\n",
      "Cluster 1:\n",
      "2.0    0.448326\n",
      "3.0    0.410480\n",
      "1.0    0.061135\n",
      "4.0    0.052402\n",
      "0.0    0.027656\n",
      "Name: q0007_0004, dtype: float64\n"
     ]
    }
   ],
   "source": [
    "fem = [\"q0007_0001\", \"q0007_0002\", \"q0007_0003\", \"q0007_0004\"]\n",
    "for q in fem:\n",
    "    print(\"Cluster 0:\")\n",
    "    print(cluster_zero_df[q].value_counts()/len(cluster_zero_df))\n",
    "    print(\"Cluster 1:\")\n",
    "    print(cluster_one_df[q].value_counts()/len(cluster_one_df))"
   ]
  },
  {
   "cell_type": "code",
   "execution_count": 9,
   "metadata": {},
   "outputs": [
    {
     "name": "stdout",
     "output_type": "stream",
     "text": [
      "Cluster Zero:\n",
      "Some college            0.312997\n",
      "College or more         0.286472\n",
      "Post graduate degree    0.251989\n",
      "High school or less     0.145889\n",
      "Name: educ4, dtype: float64\n",
      "Cluster One:\n",
      "Post graduate degree    0.365357\n",
      "College or more         0.330422\n",
      "Some college            0.231441\n",
      "High school or less     0.072780\n",
      "Name: educ4, dtype: float64\n"
     ]
    }
   ],
   "source": [
    "print(\"Cluster Zero:\")\n",
    "print(cluster_zero_df[\"educ4\"].value_counts()/len(cluster_zero_df))\n",
    "print(\"Cluster One:\")\n",
    "print(cluster_one_df[\"educ4\"].value_counts()/len(cluster_one_df))"
   ]
  },
  {
   "cell_type": "markdown",
   "metadata": {},
   "source": [
    "# Discussion\n",
    "\n",
    "My analysis seems to indicate that the survey responses to the 7 questions that were focused on do not result in people falling into a \"masculine\" category or a \"feminine\" category. Instead, they seem to be divided by their level of education. \n",
    "\n",
    "Special thanks to the team at FiveThirtyEight and Codecademy for providing me with access to this data!"
   ]
  }
 ],
 "metadata": {
  "kernelspec": {
   "display_name": "Python 3",
   "language": "python",
   "name": "python3"
  },
  "language_info": {
   "codemirror_mode": {
    "name": "ipython",
    "version": 3
   },
   "file_extension": ".py",
   "mimetype": "text/x-python",
   "name": "python",
   "nbconvert_exporter": "python",
   "pygments_lexer": "ipython3",
   "version": "3.7.4"
  }
 },
 "nbformat": 4,
 "nbformat_minor": 2
}
